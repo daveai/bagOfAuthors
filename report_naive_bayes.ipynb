{
 "cells": [
  {
   "cell_type": "markdown",
   "metadata": {},
   "source": [
    "# NLP - Author Attribution\n",
    "\n",
    "## Identifying authors through excerpts\n",
    "\n",
    "------\n",
    "\n",
    "A notebook using Python alongside sklearn and NLTK to develop an NLP classifier. Given a collection of data on six Portuguese authors, we first analyze the data and take some general decisions on how to tackle the task. We make use of NLTK features to clean the data alongside some BASH scripts. The models are built and trained with sklearn.\n",
    "\n",
    "Final predictions based on best model:\n",
    "\n",
    "1000 word excerpts:\n",
    "\n",
    "- testData/1000words/text1_clean.txt: joseSaramago\n",
    "- testData/1000words/text2_clean.txt: almadaNegreiros\n",
    "- testData/1000words/text3_clean.txt: luisaMarquesSilva\n",
    "- testData/1000words/text4_clean.txt: ecaDeQueiros\n",
    "- testData/1000words/text5_clean.txt: camiloCasteloBranco\n",
    "- testData/1000words/text6_clean.txt: joseRodriguesSantos\n",
    "\n",
    "500 word excerpts:\n",
    "\n",
    "- testData/500words/text1_clean.txt: joseSaramago\n",
    "- testData/500words/text2_clean.txt: almadaNegreiros\n",
    "- testData/500words/text3_clean.txt: luisaMarquesSilva\n",
    "- testData/500words/text4_clean.txt: ecaDeQueiros\n",
    "- testData/500words/text5_clean.txt: camiloCasteloBranco\n",
    "- testData/5000words/text6_clean.txt: joseRodriguesSantos\n",
    "\n",
    "------\n",
    "Authors: \n",
    "- Davide Montali M20190201\n",
    "- Francisco Cruz M20190637\n",
    "- Umberto Tammaro M20190806\n",
    "\n",
    "Course: Text Mining -- Nova IMS"
   ]
  },
  {
   "cell_type": "markdown",
   "metadata": {},
   "source": [
    "------\n",
    "\n",
    "# Requirements and Imports\n",
    "\n",
    "Please ensure you have the dependencies below installed and make sure to download the required NLTK data."
   ]
  },
  {
   "cell_type": "code",
   "execution_count": 101,
   "metadata": {},
   "outputs": [],
   "source": [
    "import pandas as pd\n",
    "import numpy as np\n",
    "import random\n",
    "import nltk\n",
    "import glob\n",
    "import re\n",
    "import shutil\n",
    "from pathlib import Path\n",
    "\n",
    "from itertools import count\n",
    "import matplotlib.pyplot as plt\n",
    "\n",
    "from sklearn.datasets import load_files\n",
    "from sklearn.model_selection import train_test_split, cross_val_score\n",
    "from sklearn.feature_extraction.text import TfidfVectorizer, CountVectorizer\n",
    "from sklearn.naive_bayes import MultinomialNB\n",
    "from sklearn.linear_model import SGDClassifier\n",
    "from sklearn.neighbors import KNeighborsClassifier\n",
    "from sklearn import metrics\n",
    "from sklearn.pipeline import Pipeline"
   ]
  },
  {
   "cell_type": "code",
   "execution_count": 22,
   "metadata": {
    "scrolled": true
   },
   "outputs": [
    {
     "name": "stderr",
     "output_type": "stream",
     "text": [
      "[nltk_data] Downloading package stopwords to /home/d4ve/nltk_data...\n",
      "[nltk_data]   Package stopwords is already up-to-date!\n"
     ]
    },
    {
     "data": {
      "text/plain": [
       "True"
      ]
     },
     "execution_count": 22,
     "metadata": {},
     "output_type": "execute_result"
    }
   ],
   "source": [
    "# Please make sure you have the following parts downloaded\n",
    "nltk.download('stopwords')"
   ]
  },
  {
   "cell_type": "markdown",
   "metadata": {},
   "source": [
    "# Normalising\n",
    "\n",
    "We use a quick bash script to normalize the data. We first of all translate the data into ascii standard, to remove the various portuguese accents. Then we take the complement of the following set: 'A-Za-z0-9-,.!?\"' - we decided to keep the punctuation given the varying use of punctuation by the different authors. We also lowercase the documents and merge them into a corpus document."
   ]
  },
  {
   "cell_type": "code",
   "execution_count": 23,
   "metadata": {},
   "outputs": [],
   "source": [
    "%%bash\n",
    "unzip -q project-20200323.zip\n",
    "rm -rf trainData testData cleanData\n",
    "mkdir trainData testData cleanData\n",
    "mv project/Corpora/train/* trainData/\n",
    "mv project/Corpora/test/* testData/\n",
    "rm -rf project/"
   ]
  },
  {
   "cell_type": "code",
   "execution_count": 24,
   "metadata": {
    "scrolled": true
   },
   "outputs": [],
   "source": [
    "%%bash\n",
    "rm -rf trainData/*/*clean.txt\n",
    "rm -rf trainData/*/corpus.txt\n",
    "for dir in trainData/*/; do\n",
    "    for book in $dir*.txt; do\n",
    "        iconv -f utf8 -t ascii//TRANSLIT \"$book\" | tr -sc 'A-Za-z0-9-,.!?;:' ' ' | tr A-Z a-z  >> \"${dir}corpus.txt\"\n",
    "    done\n",
    "done"
   ]
  },
  {
   "cell_type": "markdown",
   "metadata": {},
   "source": [
    "We also apply the same script to the data to be identified, although here for obvious reasons we don't concatenate the files into a corpus document."
   ]
  },
  {
   "cell_type": "code",
   "execution_count": 25,
   "metadata": {},
   "outputs": [],
   "source": [
    "%%bash\n",
    "rm -rf testData/*/*clean.txt\n",
    "for dir in testData/*/; do\n",
    "    for book in $dir*.txt; do\n",
    "        iconv -f utf8 -t ascii//TRANSLIT \"$book\" | tr -sc 'A-Za-z0-9-,.!?\"' ' ' | tr A-Z a-z  > \"${book%.*}\"_clean.txt\n",
    "    done\n",
    "done"
   ]
  },
  {
   "cell_type": "markdown",
   "metadata": {},
   "source": [
    "We define our functions used throughout the notebook as well as some variables we use. We also load the NLTK portuguese stemmer and stopwords."
   ]
  },
  {
   "cell_type": "code",
   "execution_count": 150,
   "metadata": {},
   "outputs": [],
   "source": [
    "def map_author(path):\n",
    "    \"\"\"Determine the author of a book through its file path.\"\"\"\n",
    "    for key, author in authors.items():\n",
    "        if author.lower() in path.lower():\n",
    "            return author\n",
    "        \n",
    "def clean_doc(doc, stopwords=True):\n",
    "    doc = stem_doc(doc)\n",
    "    if stopwords == True:\n",
    "        doc = stop_doc(doc)\n",
    "    return doc\n",
    "\n",
    "def stem_doc(doc):\n",
    "    \"\"\"Takes a document, splits it up and stemms each word - then\n",
    "    remerges the document together and returns it.\"\"\"\n",
    "    doc_split = doc.split()\n",
    "    stem = [stemmer.stem(str(i)) for i in doc_split]\n",
    "    doc = ' '.join(stem)\n",
    "    return doc\n",
    "\n",
    "def stop_doc(doc):\n",
    "    \"\"\"Takes a document and removes all stopwords from it\"\"\"\n",
    "    doc_split = doc.split()\n",
    "    temp = [i for i in doc_split if i not in stopwords]\n",
    "    doc = ' '.join(temp)\n",
    "    return doc\n",
    "\n",
    "def clean_new_data(doc):\n",
    "    doc = re.split(r'(\\W+)', doc)\n",
    "    doc = ' '.join(doc)\n",
    "    doc = clean_doc(doc)\n",
    "    return doc\n",
    "\n",
    "unknown = glob.glob('testData/*/*clean.txt')\n",
    "unknown.sort()\n",
    "\n",
    "def predict_unknown(model):\n",
    "    for doc in unknown:\n",
    "        with open(doc) as file:\n",
    "            file = [clean_new_data(file.read())]\n",
    "            y = int(model.predict(file))\n",
    "            print(f\"{doc} --> {book_data.target_names[y]}\")\n",
    "            \n",
    "def load_data(path='cleanData/', encoding=\"UTF-8\"):\n",
    "    book_data = load_files('cleanData/', encoding=\"UTF-8\")\n",
    "    \n",
    "    # Split into train and test set\n",
    "    X_train, X_dev, y_train, y_dev = train_test_split(book_data.data, book_data.target, train_size=0.9)\n",
    "    return book_data, X_train, X_dev, y_train, y_dev\n",
    "            \n",
    "def tester(model):\n",
    "    # Reload files - in case we're working with different data splits\n",
    "    book_data, X_train, X_dev, y_train, y_dev = load_data()\n",
    "    \n",
    "    model.fit(X_train, y_train)\n",
    "    \n",
    "    predicted = model.predict(X_dev)\n",
    "    print(np.mean(predicted == y_dev))\n",
    "    \n",
    "    predict_unknown(model)\n",
    "\n",
    "authors = {\n",
    "            1: \"almadaNegreiros\",\n",
    "            2: \"ecaDeQueiros\",\n",
    "            3: \"joseSaramago\",\n",
    "            4: \"camiloCasteloBranco\",\n",
    "            5: \"joseRodriguesSantos\",\n",
    "            6: \"luisaMarquesSilva\"}\n",
    "\n",
    "# NLTK Tools\n",
    "stopwords = list(nltk.corpus.stopwords.words('portuguese'))\n",
    "stemmer = nltk.stem.RSLPStemmer()"
   ]
  },
  {
   "cell_type": "markdown",
   "metadata": {},
   "source": [
    "## Balancing\n",
    "\n",
    "Given the large imbalance in terms of words per author we have, we decided to split the corpus of each author into a number of smaller documents. Below we split into 500 word documents - the same count as the shortest excerpts we are looking to predict.\n",
    "\n",
    "We also decided to undersample our data - this is further motivated by the vast imbalance ratio between the different auhtors. We explored oversampling as well - but given that we would generate new data for our minority class on the already scarce data we have, we decided undersampling was a more sensible route.\n",
    "\n",
    "We store our data in a separate folder, with documents within a subfolder named after the authors (our target variable) - using this format we can easily read our data into sklearn."
   ]
  },
  {
   "cell_type": "code",
   "execution_count": 172,
   "metadata": {},
   "outputs": [
    {
     "name": "stdout",
     "output_type": "stream",
     "text": [
      "Segmenting almadaNegreiros:\n",
      "Done.\n",
      "\n",
      "Segmenting camiloCasteloBranco:\n",
      "Done.\n",
      "\n",
      "Segmenting joseRodriguesSantos:\n",
      "Done.\n",
      "\n",
      "Segmenting luisaMarquesSilva:\n",
      "Done.\n",
      "\n",
      "Segmenting joseSaramago:\n",
      "Done.\n",
      "\n",
      "Segmenting ecaDeQueiros:\n",
      "Done.\n",
      "\n"
     ]
    }
   ],
   "source": [
    "# Training data paths\n",
    "corpora = glob.glob('trainData/*/corpus.txt')\n",
    "\n",
    "# Create a function to split the data into smaller files, and save them to file\n",
    "# use the sklearn dataset format - so later files can be worked with easily.\n",
    "\n",
    "def trucate(paths, w_path='cleanData/', words=500, max_splits=300, verbose=True):\n",
    "    \"\"\"Truncate function takes a list of corpora paths, and splits them\n",
    "    based on the parameters set. The default is to write the files to a new\n",
    "    folder with the authors as subdirectories and splitting documents into 500\n",
    "    word docs, with a maximum of 300 splits per author. -1 splits makes all splits\n",
    "    possible, without undersampling\"\"\" \n",
    "    \n",
    "    # Make sure previous splits are deleted, to avoid errors\n",
    "    # regarding split numbers or max words\n",
    "    try:\n",
    "        shutil.rmtree(w_path)\n",
    "    except:\n",
    "        if verbose:\n",
    "            print('Creating new folder for split.\\n')\n",
    "        \n",
    "    for path in paths:\n",
    "        if verbose:\n",
    "            print(f'Segmenting {map_author(path)}:')\n",
    "        \n",
    "        corpus = None\n",
    "        \n",
    "        with open(path) as file:\n",
    "            corpus = file.read()\n",
    "        \n",
    "        corpus = re.split(r'(\\W+)', corpus)\n",
    "        corpus_len = len(corpus)\n",
    "        if verbose:\n",
    "            print('Done.\\n')\n",
    "        \n",
    "        if max_splits == -1:\n",
    "            splits = corpus_len // words\n",
    "            # Make sure we don't loose data due to floor division.\n",
    "            if len(corpus) % words > 0: splits += 1\n",
    "        elif len(corpus) // words < max_splits:\n",
    "            splits = corpus_len // words\n",
    "            # Make sure we don't loose data due to floor division.\n",
    "            if len(corpus) % words > 0: splits += 1\n",
    "        else:\n",
    "            splits = max_splits\n",
    "            \n",
    "        # Check if directories exist, and except errors\n",
    "        # in case they do, otherwise create them.\n",
    "        path_auth = w_path + map_author(path)\n",
    "        Path(path_auth).mkdir(parents=True, exist_ok=True)\n",
    "        \n",
    "        # Set filename with itertools\n",
    "        filename = (\"/corpus_part_%03i.txt\" % i for i in count(1))\n",
    "        \n",
    "        # Randomly choose the split points\n",
    "        split_points = random.sample(range(0, corpus_len, words), splits)\n",
    "        for i in split_points:\n",
    "            seg = ' '.join(corpus[i:(i+words)])\n",
    "            seg = clean_doc(seg)\n",
    "            seg = re.sub(' +', ' ', seg)\n",
    "            with open(path_auth + next(filename), \"w\") as file:\n",
    "                file.write(seg)\n",
    "            \n",
    "trucate(corpora, words=700, max_splits=300)"
   ]
  },
  {
   "cell_type": "markdown",
   "metadata": {},
   "source": [
    "## Load Data\n",
    "With our cleaned and balanced data, we load the data into sklearn with the load_files function."
   ]
  },
  {
   "cell_type": "code",
   "execution_count": 171,
   "metadata": {},
   "outputs": [],
   "source": [
    "# Using sklearn load_data it will deduce the target variables\n",
    "# from the folder names - in our case the authors\n",
    "\n",
    "book_data, X_train, X_dev, y_train, y_dev = load_data()"
   ]
  },
  {
   "cell_type": "markdown",
   "metadata": {},
   "source": [
    "## KNN Bayes\n"
   ]
  },
  {
   "cell_type": "code",
   "execution_count": 142,
   "metadata": {},
   "outputs": [
    {
     "data": {
      "text/plain": [
       "0.9115646258503401"
      ]
     },
     "execution_count": 142,
     "metadata": {},
     "output_type": "execute_result"
    }
   ],
   "source": [
    "KNN_clf = Pipeline([\n",
    "    ('vect', TfidfVectorizer(ngram_range=(1,1))),\n",
    "    ('clf', KNeighborsClassifier(n_neighbors=2, weights='distance', algorithm='brute', leaf_size=30, p=2,\n",
    "                                metric='cosine', metric_params=None, n_jobs=1)),\n",
    "])\n",
    "\n",
    "KNN_clf.fit(X_train, y_train)\n",
    "\n",
    "predicted = KNN_clf.predict(X_dev)\n",
    "np.mean(predicted == y_dev)"
   ]
  },
  {
   "cell_type": "code",
   "execution_count": 158,
   "metadata": {},
   "outputs": [
    {
     "name": "stdout",
     "output_type": "stream",
     "text": [
      "0.912568306010929\n",
      "testData/1000Palavras/text1_clean.txt --> joseSaramago\n",
      "testData/1000Palavras/text2_clean.txt --> almadaNegreiros\n",
      "testData/1000Palavras/text3_clean.txt --> joseSaramago\n",
      "testData/1000Palavras/text4_clean.txt --> ecaDeQueiros\n",
      "testData/1000Palavras/text5_clean.txt --> camiloCasteloBranco\n",
      "testData/1000Palavras/text6_clean.txt --> joseRodriguesSantos\n",
      "testData/500Palavras/text1_clean.txt --> joseSaramago\n",
      "testData/500Palavras/text2_clean.txt --> almadaNegreiros\n",
      "testData/500Palavras/text3_clean.txt --> joseSaramago\n",
      "testData/500Palavras/text4_clean.txt --> ecaDeQueiros\n",
      "testData/500Palavras/text5_clean.txt --> joseSaramago\n",
      "testData/500Palavras/text6_clean.txt --> joseRodriguesSantos\n"
     ]
    }
   ],
   "source": [
    "tester(KNN_clf)"
   ]
  },
  {
   "cell_type": "markdown",
   "metadata": {},
   "source": [
    "## Naive Bayes\n",
    "\n",
    "We split our data and fit the NB model with an sklearn pipeline."
   ]
  },
  {
   "cell_type": "code",
   "execution_count": 144,
   "metadata": {},
   "outputs": [
    {
     "data": {
      "text/plain": [
       "0.9795918367346939"
      ]
     },
     "execution_count": 144,
     "metadata": {},
     "output_type": "execute_result"
    }
   ],
   "source": [
    "# Use sklearn pipeline to create our NB classifier\n",
    "NB_clf = Pipeline([\n",
    "    ('vect', TfidfVectorizer(ngram_range=(1,1),\n",
    "                             token_pattern=r\"(?u)\\b\\w\\w+\\b|!+|\\?|\\.+|,|-+|:|;\")),\n",
    "    ('clf', MultinomialNB(alpha=0.001)), # We add smoothing to our NB \n",
    "])\n",
    "\n",
    "NB_clf.fit(X_train, y_train)\n",
    "\n",
    "predicted = NB_clf.predict(X_dev)\n",
    "np.mean(predicted == y_dev)"
   ]
  },
  {
   "cell_type": "markdown",
   "metadata": {},
   "source": [
    "To validate our score, we use sklearn crossvalidation on the training data. Thereafter, we use the model to predict the values of our aforemention excluded test set."
   ]
  },
  {
   "cell_type": "code",
   "execution_count": 157,
   "metadata": {},
   "outputs": [
    {
     "name": "stdout",
     "output_type": "stream",
     "text": [
      "0.9918032786885246\n",
      "testData/1000Palavras/text1_clean.txt --> joseSaramago\n",
      "testData/1000Palavras/text2_clean.txt --> almadaNegreiros\n",
      "testData/1000Palavras/text3_clean.txt --> luisaMarquesSilva\n",
      "testData/1000Palavras/text4_clean.txt --> ecaDeQueiros\n",
      "testData/1000Palavras/text5_clean.txt --> camiloCasteloBranco\n",
      "testData/1000Palavras/text6_clean.txt --> joseRodriguesSantos\n",
      "testData/500Palavras/text1_clean.txt --> joseSaramago\n",
      "testData/500Palavras/text2_clean.txt --> almadaNegreiros\n",
      "testData/500Palavras/text3_clean.txt --> luisaMarquesSilva\n",
      "testData/500Palavras/text4_clean.txt --> ecaDeQueiros\n",
      "testData/500Palavras/text5_clean.txt --> camiloCasteloBranco\n",
      "testData/500Palavras/text6_clean.txt --> joseRodriguesSantos\n"
     ]
    }
   ],
   "source": [
    "tester(NB_clf)"
   ]
  },
  {
   "cell_type": "code",
   "execution_count": 149,
   "metadata": {},
   "outputs": [
    {
     "name": "stdout",
     "output_type": "stream",
     "text": [
      "                     precision    recall  f1-score   support\n",
      "\n",
      "    almadaNegreiros       1.00      0.83      0.91        12\n",
      "camiloCasteloBranco       1.00      0.96      0.98        27\n",
      "       ecaDeQueiros       0.94      1.00      0.97        33\n",
      "joseRodriguesSantos       1.00      1.00      1.00        33\n",
      "       joseSaramago       0.97      1.00      0.98        29\n",
      "  luisaMarquesSilva       1.00      1.00      1.00        13\n",
      "\n",
      "           accuracy                           0.98       147\n",
      "          macro avg       0.98      0.97      0.97       147\n",
      "       weighted avg       0.98      0.98      0.98       147\n",
      "\n"
     ]
    }
   ],
   "source": [
    "print(metrics.classification_report(y_dev, predicted, target_names=book_data.target_names))"
   ]
  },
  {
   "cell_type": "code",
   "execution_count": 148,
   "metadata": {
    "scrolled": true
   },
   "outputs": [
    {
     "data": {
      "text/plain": [
       "array([[10,  0,  1,  0,  1,  0],\n",
       "       [ 0, 26,  1,  0,  0,  0],\n",
       "       [ 0,  0, 33,  0,  0,  0],\n",
       "       [ 0,  0,  0, 33,  0,  0],\n",
       "       [ 0,  0,  0,  0, 29,  0],\n",
       "       [ 0,  0,  0,  0,  0, 13]])"
      ]
     },
     "execution_count": 148,
     "metadata": {},
     "output_type": "execute_result"
    }
   ],
   "source": [
    "metrics.confusion_matrix(y_dev, predicted)"
   ]
  },
  {
   "cell_type": "markdown",
   "metadata": {},
   "source": [
    "## SVM "
   ]
  },
  {
   "cell_type": "code",
   "execution_count": 151,
   "metadata": {},
   "outputs": [
    {
     "data": {
      "text/plain": [
       "0.9591836734693877"
      ]
     },
     "execution_count": 151,
     "metadata": {},
     "output_type": "execute_result"
    }
   ],
   "source": [
    "SVM_clf = Pipeline([\n",
    "    ('vect', CountVectorizer(ngram_range=(1,2))),\n",
    "    ('clf', SGDClassifier(alpha=0.01)),\n",
    "])\n",
    "\n",
    "SVM_clf.fit(X_train, y_train)\n",
    "\n",
    "predicted = SVM_clf.predict(X_dev)\n",
    "np.mean(predicted == y_dev)"
   ]
  },
  {
   "cell_type": "code",
   "execution_count": 156,
   "metadata": {},
   "outputs": [
    {
     "name": "stdout",
     "output_type": "stream",
     "text": [
      "0.9590163934426229\n",
      "testData/1000Palavras/text1_clean.txt --> joseSaramago\n",
      "testData/1000Palavras/text2_clean.txt --> almadaNegreiros\n",
      "testData/1000Palavras/text3_clean.txt --> luisaMarquesSilva\n",
      "testData/1000Palavras/text4_clean.txt --> ecaDeQueiros\n",
      "testData/1000Palavras/text5_clean.txt --> camiloCasteloBranco\n",
      "testData/1000Palavras/text6_clean.txt --> joseRodriguesSantos\n",
      "testData/500Palavras/text1_clean.txt --> joseSaramago\n",
      "testData/500Palavras/text2_clean.txt --> almadaNegreiros\n",
      "testData/500Palavras/text3_clean.txt --> luisaMarquesSilva\n",
      "testData/500Palavras/text4_clean.txt --> ecaDeQueiros\n",
      "testData/500Palavras/text5_clean.txt --> camiloCasteloBranco\n",
      "testData/500Palavras/text6_clean.txt --> joseRodriguesSantos\n"
     ]
    }
   ],
   "source": [
    "tester(SVM_clf)"
   ]
  },
  {
   "cell_type": "code",
   "execution_count": 153,
   "metadata": {},
   "outputs": [
    {
     "name": "stdout",
     "output_type": "stream",
     "text": [
      "                     precision    recall  f1-score   support\n",
      "\n",
      "    almadaNegreiros       1.00      0.92      0.96        12\n",
      "camiloCasteloBranco       0.87      1.00      0.93        27\n",
      "       ecaDeQueiros       1.00      0.94      0.97        33\n",
      "joseRodriguesSantos       0.94      0.97      0.96        33\n",
      "       joseSaramago       1.00      0.97      0.98        29\n",
      "  luisaMarquesSilva       1.00      0.92      0.96        13\n",
      "\n",
      "           accuracy                           0.96       147\n",
      "          macro avg       0.97      0.95      0.96       147\n",
      "       weighted avg       0.96      0.96      0.96       147\n",
      "\n"
     ]
    }
   ],
   "source": [
    "print(metrics.classification_report(y_dev, predicted, target_names=book_data.target_names))"
   ]
  },
  {
   "cell_type": "code",
   "execution_count": 154,
   "metadata": {},
   "outputs": [
    {
     "data": {
      "text/plain": [
       "array([[11,  1,  0,  0,  0,  0],\n",
       "       [ 0, 27,  0,  0,  0,  0],\n",
       "       [ 0,  2, 31,  0,  0,  0],\n",
       "       [ 0,  1,  0, 32,  0,  0],\n",
       "       [ 0,  0,  0,  1, 28,  0],\n",
       "       [ 0,  0,  0,  1,  0, 12]])"
      ]
     },
     "execution_count": 154,
     "metadata": {},
     "output_type": "execute_result"
    }
   ],
   "source": [
    "metrics.confusion_matrix(y_dev, predicted)"
   ]
  },
  {
   "cell_type": "markdown",
   "metadata": {},
   "source": [
    "## Dot dot dot\n",
    "\n",
    "A Random Forest classifier, based solely on punctuation use of the authors."
   ]
  },
  {
   "cell_type": "code",
   "execution_count": 182,
   "metadata": {},
   "outputs": [
    {
     "name": "stdout",
     "output_type": "stream",
     "text": [
      "0.7193877551020408\n",
      "testData/1000Palavras/text1_clean.txt --> joseSaramago\n",
      "testData/1000Palavras/text2_clean.txt --> almadaNegreiros\n",
      "testData/1000Palavras/text3_clean.txt --> luisaMarquesSilva\n",
      "testData/1000Palavras/text4_clean.txt --> ecaDeQueiros\n",
      "testData/1000Palavras/text5_clean.txt --> ecaDeQueiros\n",
      "testData/1000Palavras/text6_clean.txt --> joseRodriguesSantos\n",
      "testData/500Palavras/text1_clean.txt --> joseSaramago\n",
      "testData/500Palavras/text2_clean.txt --> almadaNegreiros\n",
      "testData/500Palavras/text3_clean.txt --> luisaMarquesSilva\n",
      "testData/500Palavras/text4_clean.txt --> ecaDeQueiros\n",
      "testData/500Palavras/text5_clean.txt --> joseSaramago\n",
      "testData/500Palavras/text6_clean.txt --> joseRodriguesSantos\n"
     ]
    }
   ],
   "source": [
    "from sklearn.ensemble import RandomForestClassifier\n",
    "\n",
    "dot_clf = Pipeline([\n",
    "    ('vect', TfidfVectorizer(ngram_range=(1,1),\n",
    "                             token_pattern=r\"(?u)!+|\\?+|\\.+|,+|-+|:|;\")),\n",
    "    ('clf', RandomForestClassifier(n_estimators=20, criterion='entropy')),\n",
    "])\n",
    "\n",
    "tester(dot_clf)"
   ]
  },
  {
   "cell_type": "code",
   "execution_count": 131,
   "metadata": {
    "scrolled": false
   },
   "outputs": [],
   "source": [
    "def bencher(models, words, max_splits=[300], verbose=True):\n",
    "    bench_scores = []\n",
    "    models_list = ['KNN', 'NB', 'SVM', 'DOT']\n",
    "    for w in words:\n",
    "        for s in max_splits:\n",
    "            trucate(corpora, w_path='cleanData/', words=w, max_splits=s, verbose=False)\n",
    "            book_data, X_train, X_test, y_train, y_test = load_data()\n",
    "            if verbose:\n",
    "                print(\"\\n\\n___________________________\")\n",
    "                print(f\"Running with {w} words and {s} splits:\")\n",
    "            for count, model in enumerate(models):\n",
    "                model.fit(X_train, y_train)\n",
    "                predicted = model.predict(X_test)\n",
    "                mean_cross = np.mean(cross_val_score(model, X_train, y_train, cv=10))\n",
    "                mean_test = np.mean(predicted == y_test)\n",
    "                bench_scores.append([models_list[count], mean_cross, mean_test, w, s])\n",
    "                if verbose:\n",
    "                    print(\"cross val 10-fold: \", mean_cross)\n",
    "                    print(\"accuracy on test: \",  mean_test, \"\\n\")\n",
    "                \n",
    "    df = pd.DataFrame(bench_scores, columns=['model', 'cross_val', 'test_accur', 'words', 'splits'])\n",
    "    return df\n",
    "\n",
    "options = [20, 30, 40, 50, 100, 200, 300, 400, 500, 600, 700, 800, 900, 1000]\n",
    "\n",
    "df = bencher(words=options[:5],models=[KNN_clf, NB_clf, SVM_clf, dot_clf], verbose=False)"
   ]
  },
  {
   "cell_type": "code",
   "execution_count": 132,
   "metadata": {},
   "outputs": [
    {
     "data": {
      "application/vnd.plotly.v1+json": {
       "config": {
        "plotlyServerURL": "https://plot.ly"
       },
       "data": [
        {
         "hoverlabel": {
          "namelength": 0
         },
         "hovertemplate": "model=KNN<br>words=%{x}<br>test_accur=%{y}",
         "legendgroup": "KNN",
         "line": {
          "color": "#1F77B4",
          "dash": "solid"
         },
         "mode": "lines",
         "name": "KNN",
         "showlegend": true,
         "type": "scatter",
         "x": [
          20,
          30,
          40,
          50,
          100
         ],
         "xaxis": "x",
         "y": [
          0.2822222222222222,
          0.3088888888888889,
          0.33555555555555555,
          0.3688888888888889,
          0.5022222222222222
         ],
         "yaxis": "y"
        },
        {
         "hoverlabel": {
          "namelength": 0
         },
         "hovertemplate": "model=NB<br>words=%{x}<br>test_accur=%{y}",
         "legendgroup": "NB",
         "line": {
          "color": "#FF7F0E",
          "dash": "solid"
         },
         "mode": "lines",
         "name": "NB",
         "showlegend": true,
         "type": "scatter",
         "x": [
          20,
          30,
          40,
          50,
          100
         ],
         "xaxis": "x",
         "y": [
          0.32666666666666666,
          0.4066666666666667,
          0.4888888888888889,
          0.5533333333333333,
          0.7466666666666667
         ],
         "yaxis": "y"
        },
        {
         "hoverlabel": {
          "namelength": 0
         },
         "hovertemplate": "model=SVM<br>words=%{x}<br>test_accur=%{y}",
         "legendgroup": "SVM",
         "line": {
          "color": "#2CA02C",
          "dash": "solid"
         },
         "mode": "lines",
         "name": "SVM",
         "showlegend": true,
         "type": "scatter",
         "x": [
          20,
          30,
          40,
          50,
          100
         ],
         "xaxis": "x",
         "y": [
          0.36,
          0.39111111111111113,
          0.4444444444444444,
          0.4866666666666667,
          0.7
         ],
         "yaxis": "y"
        },
        {
         "hoverlabel": {
          "namelength": 0
         },
         "hovertemplate": "model=DOT<br>words=%{x}<br>test_accur=%{y}",
         "legendgroup": "DOT",
         "line": {
          "color": "#D62728",
          "dash": "solid"
         },
         "mode": "lines",
         "name": "DOT",
         "showlegend": true,
         "type": "scatter",
         "x": [
          20,
          30,
          40,
          50,
          100
         ],
         "xaxis": "x",
         "y": [
          0.30444444444444446,
          0.33555555555555555,
          0.36666666666666664,
          0.42444444444444446,
          0.5133333333333333
         ],
         "yaxis": "y"
        }
       ],
       "layout": {
        "legend": {
         "title": {
          "text": "model"
         },
         "tracegroupgap": 0
        },
        "template": {
         "data": {
          "bar": [
           {
            "error_x": {
             "color": "rgb(36,36,36)"
            },
            "error_y": {
             "color": "rgb(36,36,36)"
            },
            "marker": {
             "line": {
              "color": "white",
              "width": 0.5
             }
            },
            "type": "bar"
           }
          ],
          "barpolar": [
           {
            "marker": {
             "line": {
              "color": "white",
              "width": 0.5
             }
            },
            "type": "barpolar"
           }
          ],
          "carpet": [
           {
            "aaxis": {
             "endlinecolor": "rgb(36,36,36)",
             "gridcolor": "white",
             "linecolor": "white",
             "minorgridcolor": "white",
             "startlinecolor": "rgb(36,36,36)"
            },
            "baxis": {
             "endlinecolor": "rgb(36,36,36)",
             "gridcolor": "white",
             "linecolor": "white",
             "minorgridcolor": "white",
             "startlinecolor": "rgb(36,36,36)"
            },
            "type": "carpet"
           }
          ],
          "choropleth": [
           {
            "colorbar": {
             "outlinewidth": 1,
             "tickcolor": "rgb(36,36,36)",
             "ticks": "outside"
            },
            "type": "choropleth"
           }
          ],
          "contour": [
           {
            "colorbar": {
             "outlinewidth": 1,
             "tickcolor": "rgb(36,36,36)",
             "ticks": "outside"
            },
            "colorscale": [
             [
              0,
              "#440154"
             ],
             [
              0.1111111111111111,
              "#482878"
             ],
             [
              0.2222222222222222,
              "#3e4989"
             ],
             [
              0.3333333333333333,
              "#31688e"
             ],
             [
              0.4444444444444444,
              "#26828e"
             ],
             [
              0.5555555555555556,
              "#1f9e89"
             ],
             [
              0.6666666666666666,
              "#35b779"
             ],
             [
              0.7777777777777778,
              "#6ece58"
             ],
             [
              0.8888888888888888,
              "#b5de2b"
             ],
             [
              1,
              "#fde725"
             ]
            ],
            "type": "contour"
           }
          ],
          "contourcarpet": [
           {
            "colorbar": {
             "outlinewidth": 1,
             "tickcolor": "rgb(36,36,36)",
             "ticks": "outside"
            },
            "type": "contourcarpet"
           }
          ],
          "heatmap": [
           {
            "colorbar": {
             "outlinewidth": 1,
             "tickcolor": "rgb(36,36,36)",
             "ticks": "outside"
            },
            "colorscale": [
             [
              0,
              "#440154"
             ],
             [
              0.1111111111111111,
              "#482878"
             ],
             [
              0.2222222222222222,
              "#3e4989"
             ],
             [
              0.3333333333333333,
              "#31688e"
             ],
             [
              0.4444444444444444,
              "#26828e"
             ],
             [
              0.5555555555555556,
              "#1f9e89"
             ],
             [
              0.6666666666666666,
              "#35b779"
             ],
             [
              0.7777777777777778,
              "#6ece58"
             ],
             [
              0.8888888888888888,
              "#b5de2b"
             ],
             [
              1,
              "#fde725"
             ]
            ],
            "type": "heatmap"
           }
          ],
          "heatmapgl": [
           {
            "colorbar": {
             "outlinewidth": 1,
             "tickcolor": "rgb(36,36,36)",
             "ticks": "outside"
            },
            "colorscale": [
             [
              0,
              "#440154"
             ],
             [
              0.1111111111111111,
              "#482878"
             ],
             [
              0.2222222222222222,
              "#3e4989"
             ],
             [
              0.3333333333333333,
              "#31688e"
             ],
             [
              0.4444444444444444,
              "#26828e"
             ],
             [
              0.5555555555555556,
              "#1f9e89"
             ],
             [
              0.6666666666666666,
              "#35b779"
             ],
             [
              0.7777777777777778,
              "#6ece58"
             ],
             [
              0.8888888888888888,
              "#b5de2b"
             ],
             [
              1,
              "#fde725"
             ]
            ],
            "type": "heatmapgl"
           }
          ],
          "histogram": [
           {
            "marker": {
             "line": {
              "color": "white",
              "width": 0.6
             }
            },
            "type": "histogram"
           }
          ],
          "histogram2d": [
           {
            "colorbar": {
             "outlinewidth": 1,
             "tickcolor": "rgb(36,36,36)",
             "ticks": "outside"
            },
            "colorscale": [
             [
              0,
              "#440154"
             ],
             [
              0.1111111111111111,
              "#482878"
             ],
             [
              0.2222222222222222,
              "#3e4989"
             ],
             [
              0.3333333333333333,
              "#31688e"
             ],
             [
              0.4444444444444444,
              "#26828e"
             ],
             [
              0.5555555555555556,
              "#1f9e89"
             ],
             [
              0.6666666666666666,
              "#35b779"
             ],
             [
              0.7777777777777778,
              "#6ece58"
             ],
             [
              0.8888888888888888,
              "#b5de2b"
             ],
             [
              1,
              "#fde725"
             ]
            ],
            "type": "histogram2d"
           }
          ],
          "histogram2dcontour": [
           {
            "colorbar": {
             "outlinewidth": 1,
             "tickcolor": "rgb(36,36,36)",
             "ticks": "outside"
            },
            "colorscale": [
             [
              0,
              "#440154"
             ],
             [
              0.1111111111111111,
              "#482878"
             ],
             [
              0.2222222222222222,
              "#3e4989"
             ],
             [
              0.3333333333333333,
              "#31688e"
             ],
             [
              0.4444444444444444,
              "#26828e"
             ],
             [
              0.5555555555555556,
              "#1f9e89"
             ],
             [
              0.6666666666666666,
              "#35b779"
             ],
             [
              0.7777777777777778,
              "#6ece58"
             ],
             [
              0.8888888888888888,
              "#b5de2b"
             ],
             [
              1,
              "#fde725"
             ]
            ],
            "type": "histogram2dcontour"
           }
          ],
          "mesh3d": [
           {
            "colorbar": {
             "outlinewidth": 1,
             "tickcolor": "rgb(36,36,36)",
             "ticks": "outside"
            },
            "type": "mesh3d"
           }
          ],
          "parcoords": [
           {
            "line": {
             "colorbar": {
              "outlinewidth": 1,
              "tickcolor": "rgb(36,36,36)",
              "ticks": "outside"
             }
            },
            "type": "parcoords"
           }
          ],
          "pie": [
           {
            "automargin": true,
            "type": "pie"
           }
          ],
          "scatter": [
           {
            "marker": {
             "colorbar": {
              "outlinewidth": 1,
              "tickcolor": "rgb(36,36,36)",
              "ticks": "outside"
             }
            },
            "type": "scatter"
           }
          ],
          "scatter3d": [
           {
            "line": {
             "colorbar": {
              "outlinewidth": 1,
              "tickcolor": "rgb(36,36,36)",
              "ticks": "outside"
             }
            },
            "marker": {
             "colorbar": {
              "outlinewidth": 1,
              "tickcolor": "rgb(36,36,36)",
              "ticks": "outside"
             }
            },
            "type": "scatter3d"
           }
          ],
          "scattercarpet": [
           {
            "marker": {
             "colorbar": {
              "outlinewidth": 1,
              "tickcolor": "rgb(36,36,36)",
              "ticks": "outside"
             }
            },
            "type": "scattercarpet"
           }
          ],
          "scattergeo": [
           {
            "marker": {
             "colorbar": {
              "outlinewidth": 1,
              "tickcolor": "rgb(36,36,36)",
              "ticks": "outside"
             }
            },
            "type": "scattergeo"
           }
          ],
          "scattergl": [
           {
            "marker": {
             "colorbar": {
              "outlinewidth": 1,
              "tickcolor": "rgb(36,36,36)",
              "ticks": "outside"
             }
            },
            "type": "scattergl"
           }
          ],
          "scattermapbox": [
           {
            "marker": {
             "colorbar": {
              "outlinewidth": 1,
              "tickcolor": "rgb(36,36,36)",
              "ticks": "outside"
             }
            },
            "type": "scattermapbox"
           }
          ],
          "scatterpolar": [
           {
            "marker": {
             "colorbar": {
              "outlinewidth": 1,
              "tickcolor": "rgb(36,36,36)",
              "ticks": "outside"
             }
            },
            "type": "scatterpolar"
           }
          ],
          "scatterpolargl": [
           {
            "marker": {
             "colorbar": {
              "outlinewidth": 1,
              "tickcolor": "rgb(36,36,36)",
              "ticks": "outside"
             }
            },
            "type": "scatterpolargl"
           }
          ],
          "scatterternary": [
           {
            "marker": {
             "colorbar": {
              "outlinewidth": 1,
              "tickcolor": "rgb(36,36,36)",
              "ticks": "outside"
             }
            },
            "type": "scatterternary"
           }
          ],
          "surface": [
           {
            "colorbar": {
             "outlinewidth": 1,
             "tickcolor": "rgb(36,36,36)",
             "ticks": "outside"
            },
            "colorscale": [
             [
              0,
              "#440154"
             ],
             [
              0.1111111111111111,
              "#482878"
             ],
             [
              0.2222222222222222,
              "#3e4989"
             ],
             [
              0.3333333333333333,
              "#31688e"
             ],
             [
              0.4444444444444444,
              "#26828e"
             ],
             [
              0.5555555555555556,
              "#1f9e89"
             ],
             [
              0.6666666666666666,
              "#35b779"
             ],
             [
              0.7777777777777778,
              "#6ece58"
             ],
             [
              0.8888888888888888,
              "#b5de2b"
             ],
             [
              1,
              "#fde725"
             ]
            ],
            "type": "surface"
           }
          ],
          "table": [
           {
            "cells": {
             "fill": {
              "color": "rgb(237,237,237)"
             },
             "line": {
              "color": "white"
             }
            },
            "header": {
             "fill": {
              "color": "rgb(217,217,217)"
             },
             "line": {
              "color": "white"
             }
            },
            "type": "table"
           }
          ]
         },
         "layout": {
          "annotationdefaults": {
           "arrowhead": 0,
           "arrowwidth": 1
          },
          "coloraxis": {
           "colorbar": {
            "outlinewidth": 1,
            "tickcolor": "rgb(36,36,36)",
            "ticks": "outside"
           }
          },
          "colorscale": {
           "diverging": [
            [
             0,
             "rgb(103,0,31)"
            ],
            [
             0.1,
             "rgb(178,24,43)"
            ],
            [
             0.2,
             "rgb(214,96,77)"
            ],
            [
             0.3,
             "rgb(244,165,130)"
            ],
            [
             0.4,
             "rgb(253,219,199)"
            ],
            [
             0.5,
             "rgb(247,247,247)"
            ],
            [
             0.6,
             "rgb(209,229,240)"
            ],
            [
             0.7,
             "rgb(146,197,222)"
            ],
            [
             0.8,
             "rgb(67,147,195)"
            ],
            [
             0.9,
             "rgb(33,102,172)"
            ],
            [
             1,
             "rgb(5,48,97)"
            ]
           ],
           "sequential": [
            [
             0,
             "#440154"
            ],
            [
             0.1111111111111111,
             "#482878"
            ],
            [
             0.2222222222222222,
             "#3e4989"
            ],
            [
             0.3333333333333333,
             "#31688e"
            ],
            [
             0.4444444444444444,
             "#26828e"
            ],
            [
             0.5555555555555556,
             "#1f9e89"
            ],
            [
             0.6666666666666666,
             "#35b779"
            ],
            [
             0.7777777777777778,
             "#6ece58"
            ],
            [
             0.8888888888888888,
             "#b5de2b"
            ],
            [
             1,
             "#fde725"
            ]
           ],
           "sequentialminus": [
            [
             0,
             "#440154"
            ],
            [
             0.1111111111111111,
             "#482878"
            ],
            [
             0.2222222222222222,
             "#3e4989"
            ],
            [
             0.3333333333333333,
             "#31688e"
            ],
            [
             0.4444444444444444,
             "#26828e"
            ],
            [
             0.5555555555555556,
             "#1f9e89"
            ],
            [
             0.6666666666666666,
             "#35b779"
            ],
            [
             0.7777777777777778,
             "#6ece58"
            ],
            [
             0.8888888888888888,
             "#b5de2b"
            ],
            [
             1,
             "#fde725"
            ]
           ]
          },
          "colorway": [
           "#1F77B4",
           "#FF7F0E",
           "#2CA02C",
           "#D62728",
           "#9467BD",
           "#8C564B",
           "#E377C2",
           "#7F7F7F",
           "#BCBD22",
           "#17BECF"
          ],
          "font": {
           "color": "rgb(36,36,36)"
          },
          "geo": {
           "bgcolor": "white",
           "lakecolor": "white",
           "landcolor": "white",
           "showlakes": true,
           "showland": true,
           "subunitcolor": "white"
          },
          "hoverlabel": {
           "align": "left"
          },
          "hovermode": "closest",
          "mapbox": {
           "style": "light"
          },
          "paper_bgcolor": "white",
          "plot_bgcolor": "white",
          "polar": {
           "angularaxis": {
            "gridcolor": "rgb(232,232,232)",
            "linecolor": "rgb(36,36,36)",
            "showgrid": false,
            "showline": true,
            "ticks": "outside"
           },
           "bgcolor": "white",
           "radialaxis": {
            "gridcolor": "rgb(232,232,232)",
            "linecolor": "rgb(36,36,36)",
            "showgrid": false,
            "showline": true,
            "ticks": "outside"
           }
          },
          "scene": {
           "xaxis": {
            "backgroundcolor": "white",
            "gridcolor": "rgb(232,232,232)",
            "gridwidth": 2,
            "linecolor": "rgb(36,36,36)",
            "showbackground": true,
            "showgrid": false,
            "showline": true,
            "ticks": "outside",
            "zeroline": false,
            "zerolinecolor": "rgb(36,36,36)"
           },
           "yaxis": {
            "backgroundcolor": "white",
            "gridcolor": "rgb(232,232,232)",
            "gridwidth": 2,
            "linecolor": "rgb(36,36,36)",
            "showbackground": true,
            "showgrid": false,
            "showline": true,
            "ticks": "outside",
            "zeroline": false,
            "zerolinecolor": "rgb(36,36,36)"
           },
           "zaxis": {
            "backgroundcolor": "white",
            "gridcolor": "rgb(232,232,232)",
            "gridwidth": 2,
            "linecolor": "rgb(36,36,36)",
            "showbackground": true,
            "showgrid": false,
            "showline": true,
            "ticks": "outside",
            "zeroline": false,
            "zerolinecolor": "rgb(36,36,36)"
           }
          },
          "shapedefaults": {
           "fillcolor": "black",
           "line": {
            "width": 0
           },
           "opacity": 0.3
          },
          "ternary": {
           "aaxis": {
            "gridcolor": "rgb(232,232,232)",
            "linecolor": "rgb(36,36,36)",
            "showgrid": false,
            "showline": true,
            "ticks": "outside"
           },
           "baxis": {
            "gridcolor": "rgb(232,232,232)",
            "linecolor": "rgb(36,36,36)",
            "showgrid": false,
            "showline": true,
            "ticks": "outside"
           },
           "bgcolor": "white",
           "caxis": {
            "gridcolor": "rgb(232,232,232)",
            "linecolor": "rgb(36,36,36)",
            "showgrid": false,
            "showline": true,
            "ticks": "outside"
           }
          },
          "title": {
           "x": 0.05
          },
          "xaxis": {
           "automargin": true,
           "gridcolor": "rgb(232,232,232)",
           "linecolor": "rgb(36,36,36)",
           "showgrid": false,
           "showline": true,
           "ticks": "outside",
           "title": {
            "standoff": 15
           },
           "zeroline": false,
           "zerolinecolor": "rgb(36,36,36)"
          },
          "yaxis": {
           "automargin": true,
           "gridcolor": "rgb(232,232,232)",
           "linecolor": "rgb(36,36,36)",
           "showgrid": false,
           "showline": true,
           "ticks": "outside",
           "title": {
            "standoff": 15
           },
           "zeroline": false,
           "zerolinecolor": "rgb(36,36,36)"
          }
         }
        },
        "title": {
         "text": "Dev Set Accuracy by Words"
        },
        "xaxis": {
         "anchor": "y",
         "domain": [
          0,
          1
         ],
         "title": {
          "text": "word count"
         }
        },
        "yaxis": {
         "anchor": "x",
         "domain": [
          0,
          1
         ],
         "title": {
          "text": "dev set accuracy"
         }
        }
       }
      },
      "text/html": [
       "<div>\n",
       "        \n",
       "        \n",
       "            <div id=\"582dcab0-343e-40a8-8d3d-8d140ad1ef16\" class=\"plotly-graph-div\" style=\"height:525px; width:100%;\"></div>\n",
       "            <script type=\"text/javascript\">\n",
       "                require([\"plotly\"], function(Plotly) {\n",
       "                    window.PLOTLYENV=window.PLOTLYENV || {};\n",
       "                    \n",
       "                if (document.getElementById(\"582dcab0-343e-40a8-8d3d-8d140ad1ef16\")) {\n",
       "                    Plotly.newPlot(\n",
       "                        '582dcab0-343e-40a8-8d3d-8d140ad1ef16',\n",
       "                        [{\"hoverlabel\": {\"namelength\": 0}, \"hovertemplate\": \"model=KNN<br>words=%{x}<br>test_accur=%{y}\", \"legendgroup\": \"KNN\", \"line\": {\"color\": \"#1F77B4\", \"dash\": \"solid\"}, \"mode\": \"lines\", \"name\": \"KNN\", \"showlegend\": true, \"type\": \"scatter\", \"x\": [20, 30, 40, 50, 100], \"xaxis\": \"x\", \"y\": [0.2822222222222222, 0.3088888888888889, 0.33555555555555555, 0.3688888888888889, 0.5022222222222222], \"yaxis\": \"y\"}, {\"hoverlabel\": {\"namelength\": 0}, \"hovertemplate\": \"model=NB<br>words=%{x}<br>test_accur=%{y}\", \"legendgroup\": \"NB\", \"line\": {\"color\": \"#FF7F0E\", \"dash\": \"solid\"}, \"mode\": \"lines\", \"name\": \"NB\", \"showlegend\": true, \"type\": \"scatter\", \"x\": [20, 30, 40, 50, 100], \"xaxis\": \"x\", \"y\": [0.32666666666666666, 0.4066666666666667, 0.4888888888888889, 0.5533333333333333, 0.7466666666666667], \"yaxis\": \"y\"}, {\"hoverlabel\": {\"namelength\": 0}, \"hovertemplate\": \"model=SVM<br>words=%{x}<br>test_accur=%{y}\", \"legendgroup\": \"SVM\", \"line\": {\"color\": \"#2CA02C\", \"dash\": \"solid\"}, \"mode\": \"lines\", \"name\": \"SVM\", \"showlegend\": true, \"type\": \"scatter\", \"x\": [20, 30, 40, 50, 100], \"xaxis\": \"x\", \"y\": [0.36, 0.39111111111111113, 0.4444444444444444, 0.4866666666666667, 0.7], \"yaxis\": \"y\"}, {\"hoverlabel\": {\"namelength\": 0}, \"hovertemplate\": \"model=DOT<br>words=%{x}<br>test_accur=%{y}\", \"legendgroup\": \"DOT\", \"line\": {\"color\": \"#D62728\", \"dash\": \"solid\"}, \"mode\": \"lines\", \"name\": \"DOT\", \"showlegend\": true, \"type\": \"scatter\", \"x\": [20, 30, 40, 50, 100], \"xaxis\": \"x\", \"y\": [0.30444444444444446, 0.33555555555555555, 0.36666666666666664, 0.42444444444444446, 0.5133333333333333], \"yaxis\": \"y\"}],\n",
       "                        {\"legend\": {\"title\": {\"text\": \"model\"}, \"tracegroupgap\": 0}, \"template\": {\"data\": {\"bar\": [{\"error_x\": {\"color\": \"rgb(36,36,36)\"}, \"error_y\": {\"color\": \"rgb(36,36,36)\"}, \"marker\": {\"line\": {\"color\": \"white\", \"width\": 0.5}}, \"type\": \"bar\"}], \"barpolar\": [{\"marker\": {\"line\": {\"color\": \"white\", \"width\": 0.5}}, \"type\": \"barpolar\"}], \"carpet\": [{\"aaxis\": {\"endlinecolor\": \"rgb(36,36,36)\", \"gridcolor\": \"white\", \"linecolor\": \"white\", \"minorgridcolor\": \"white\", \"startlinecolor\": \"rgb(36,36,36)\"}, \"baxis\": {\"endlinecolor\": \"rgb(36,36,36)\", \"gridcolor\": \"white\", \"linecolor\": \"white\", \"minorgridcolor\": \"white\", \"startlinecolor\": \"rgb(36,36,36)\"}, \"type\": \"carpet\"}], \"choropleth\": [{\"colorbar\": {\"outlinewidth\": 1, \"tickcolor\": \"rgb(36,36,36)\", \"ticks\": \"outside\"}, \"type\": \"choropleth\"}], \"contour\": [{\"colorbar\": {\"outlinewidth\": 1, \"tickcolor\": \"rgb(36,36,36)\", \"ticks\": \"outside\"}, \"colorscale\": [[0.0, \"#440154\"], [0.1111111111111111, \"#482878\"], [0.2222222222222222, \"#3e4989\"], [0.3333333333333333, \"#31688e\"], [0.4444444444444444, \"#26828e\"], [0.5555555555555556, \"#1f9e89\"], [0.6666666666666666, \"#35b779\"], [0.7777777777777778, \"#6ece58\"], [0.8888888888888888, \"#b5de2b\"], [1.0, \"#fde725\"]], \"type\": \"contour\"}], \"contourcarpet\": [{\"colorbar\": {\"outlinewidth\": 1, \"tickcolor\": \"rgb(36,36,36)\", \"ticks\": \"outside\"}, \"type\": \"contourcarpet\"}], \"heatmap\": [{\"colorbar\": {\"outlinewidth\": 1, \"tickcolor\": \"rgb(36,36,36)\", \"ticks\": \"outside\"}, \"colorscale\": [[0.0, \"#440154\"], [0.1111111111111111, \"#482878\"], [0.2222222222222222, \"#3e4989\"], [0.3333333333333333, \"#31688e\"], [0.4444444444444444, \"#26828e\"], [0.5555555555555556, \"#1f9e89\"], [0.6666666666666666, \"#35b779\"], [0.7777777777777778, \"#6ece58\"], [0.8888888888888888, \"#b5de2b\"], [1.0, \"#fde725\"]], \"type\": \"heatmap\"}], \"heatmapgl\": [{\"colorbar\": {\"outlinewidth\": 1, \"tickcolor\": \"rgb(36,36,36)\", \"ticks\": \"outside\"}, \"colorscale\": [[0.0, \"#440154\"], [0.1111111111111111, \"#482878\"], [0.2222222222222222, \"#3e4989\"], [0.3333333333333333, \"#31688e\"], [0.4444444444444444, \"#26828e\"], [0.5555555555555556, \"#1f9e89\"], [0.6666666666666666, \"#35b779\"], [0.7777777777777778, \"#6ece58\"], [0.8888888888888888, \"#b5de2b\"], [1.0, \"#fde725\"]], \"type\": \"heatmapgl\"}], \"histogram\": [{\"marker\": {\"line\": {\"color\": \"white\", \"width\": 0.6}}, \"type\": \"histogram\"}], \"histogram2d\": [{\"colorbar\": {\"outlinewidth\": 1, \"tickcolor\": \"rgb(36,36,36)\", \"ticks\": \"outside\"}, \"colorscale\": [[0.0, \"#440154\"], [0.1111111111111111, \"#482878\"], [0.2222222222222222, \"#3e4989\"], [0.3333333333333333, \"#31688e\"], [0.4444444444444444, \"#26828e\"], [0.5555555555555556, \"#1f9e89\"], [0.6666666666666666, \"#35b779\"], [0.7777777777777778, \"#6ece58\"], [0.8888888888888888, \"#b5de2b\"], [1.0, \"#fde725\"]], \"type\": \"histogram2d\"}], \"histogram2dcontour\": [{\"colorbar\": {\"outlinewidth\": 1, \"tickcolor\": \"rgb(36,36,36)\", \"ticks\": \"outside\"}, \"colorscale\": [[0.0, \"#440154\"], [0.1111111111111111, \"#482878\"], [0.2222222222222222, \"#3e4989\"], [0.3333333333333333, \"#31688e\"], [0.4444444444444444, \"#26828e\"], [0.5555555555555556, \"#1f9e89\"], [0.6666666666666666, \"#35b779\"], [0.7777777777777778, \"#6ece58\"], [0.8888888888888888, \"#b5de2b\"], [1.0, \"#fde725\"]], \"type\": \"histogram2dcontour\"}], \"mesh3d\": [{\"colorbar\": {\"outlinewidth\": 1, \"tickcolor\": \"rgb(36,36,36)\", \"ticks\": \"outside\"}, \"type\": \"mesh3d\"}], \"parcoords\": [{\"line\": {\"colorbar\": {\"outlinewidth\": 1, \"tickcolor\": \"rgb(36,36,36)\", \"ticks\": \"outside\"}}, \"type\": \"parcoords\"}], \"pie\": [{\"automargin\": true, \"type\": \"pie\"}], \"scatter\": [{\"marker\": {\"colorbar\": {\"outlinewidth\": 1, \"tickcolor\": \"rgb(36,36,36)\", \"ticks\": \"outside\"}}, \"type\": \"scatter\"}], \"scatter3d\": [{\"line\": {\"colorbar\": {\"outlinewidth\": 1, \"tickcolor\": \"rgb(36,36,36)\", \"ticks\": \"outside\"}}, \"marker\": {\"colorbar\": {\"outlinewidth\": 1, \"tickcolor\": \"rgb(36,36,36)\", \"ticks\": \"outside\"}}, \"type\": \"scatter3d\"}], \"scattercarpet\": [{\"marker\": {\"colorbar\": {\"outlinewidth\": 1, \"tickcolor\": \"rgb(36,36,36)\", \"ticks\": \"outside\"}}, \"type\": \"scattercarpet\"}], \"scattergeo\": [{\"marker\": {\"colorbar\": {\"outlinewidth\": 1, \"tickcolor\": \"rgb(36,36,36)\", \"ticks\": \"outside\"}}, \"type\": \"scattergeo\"}], \"scattergl\": [{\"marker\": {\"colorbar\": {\"outlinewidth\": 1, \"tickcolor\": \"rgb(36,36,36)\", \"ticks\": \"outside\"}}, \"type\": \"scattergl\"}], \"scattermapbox\": [{\"marker\": {\"colorbar\": {\"outlinewidth\": 1, \"tickcolor\": \"rgb(36,36,36)\", \"ticks\": \"outside\"}}, \"type\": \"scattermapbox\"}], \"scatterpolar\": [{\"marker\": {\"colorbar\": {\"outlinewidth\": 1, \"tickcolor\": \"rgb(36,36,36)\", \"ticks\": \"outside\"}}, \"type\": \"scatterpolar\"}], \"scatterpolargl\": [{\"marker\": {\"colorbar\": {\"outlinewidth\": 1, \"tickcolor\": \"rgb(36,36,36)\", \"ticks\": \"outside\"}}, \"type\": \"scatterpolargl\"}], \"scatterternary\": [{\"marker\": {\"colorbar\": {\"outlinewidth\": 1, \"tickcolor\": \"rgb(36,36,36)\", \"ticks\": \"outside\"}}, \"type\": \"scatterternary\"}], \"surface\": [{\"colorbar\": {\"outlinewidth\": 1, \"tickcolor\": \"rgb(36,36,36)\", \"ticks\": \"outside\"}, \"colorscale\": [[0.0, \"#440154\"], [0.1111111111111111, \"#482878\"], [0.2222222222222222, \"#3e4989\"], [0.3333333333333333, \"#31688e\"], [0.4444444444444444, \"#26828e\"], [0.5555555555555556, \"#1f9e89\"], [0.6666666666666666, \"#35b779\"], [0.7777777777777778, \"#6ece58\"], [0.8888888888888888, \"#b5de2b\"], [1.0, \"#fde725\"]], \"type\": \"surface\"}], \"table\": [{\"cells\": {\"fill\": {\"color\": \"rgb(237,237,237)\"}, \"line\": {\"color\": \"white\"}}, \"header\": {\"fill\": {\"color\": \"rgb(217,217,217)\"}, \"line\": {\"color\": \"white\"}}, \"type\": \"table\"}]}, \"layout\": {\"annotationdefaults\": {\"arrowhead\": 0, \"arrowwidth\": 1}, \"coloraxis\": {\"colorbar\": {\"outlinewidth\": 1, \"tickcolor\": \"rgb(36,36,36)\", \"ticks\": \"outside\"}}, \"colorscale\": {\"diverging\": [[0.0, \"rgb(103,0,31)\"], [0.1, \"rgb(178,24,43)\"], [0.2, \"rgb(214,96,77)\"], [0.3, \"rgb(244,165,130)\"], [0.4, \"rgb(253,219,199)\"], [0.5, \"rgb(247,247,247)\"], [0.6, \"rgb(209,229,240)\"], [0.7, \"rgb(146,197,222)\"], [0.8, \"rgb(67,147,195)\"], [0.9, \"rgb(33,102,172)\"], [1.0, \"rgb(5,48,97)\"]], \"sequential\": [[0.0, \"#440154\"], [0.1111111111111111, \"#482878\"], [0.2222222222222222, \"#3e4989\"], [0.3333333333333333, \"#31688e\"], [0.4444444444444444, \"#26828e\"], [0.5555555555555556, \"#1f9e89\"], [0.6666666666666666, \"#35b779\"], [0.7777777777777778, \"#6ece58\"], [0.8888888888888888, \"#b5de2b\"], [1.0, \"#fde725\"]], \"sequentialminus\": [[0.0, \"#440154\"], [0.1111111111111111, \"#482878\"], [0.2222222222222222, \"#3e4989\"], [0.3333333333333333, \"#31688e\"], [0.4444444444444444, \"#26828e\"], [0.5555555555555556, \"#1f9e89\"], [0.6666666666666666, \"#35b779\"], [0.7777777777777778, \"#6ece58\"], [0.8888888888888888, \"#b5de2b\"], [1.0, \"#fde725\"]]}, \"colorway\": [\"#1F77B4\", \"#FF7F0E\", \"#2CA02C\", \"#D62728\", \"#9467BD\", \"#8C564B\", \"#E377C2\", \"#7F7F7F\", \"#BCBD22\", \"#17BECF\"], \"font\": {\"color\": \"rgb(36,36,36)\"}, \"geo\": {\"bgcolor\": \"white\", \"lakecolor\": \"white\", \"landcolor\": \"white\", \"showlakes\": true, \"showland\": true, \"subunitcolor\": \"white\"}, \"hoverlabel\": {\"align\": \"left\"}, \"hovermode\": \"closest\", \"mapbox\": {\"style\": \"light\"}, \"paper_bgcolor\": \"white\", \"plot_bgcolor\": \"white\", \"polar\": {\"angularaxis\": {\"gridcolor\": \"rgb(232,232,232)\", \"linecolor\": \"rgb(36,36,36)\", \"showgrid\": false, \"showline\": true, \"ticks\": \"outside\"}, \"bgcolor\": \"white\", \"radialaxis\": {\"gridcolor\": \"rgb(232,232,232)\", \"linecolor\": \"rgb(36,36,36)\", \"showgrid\": false, \"showline\": true, \"ticks\": \"outside\"}}, \"scene\": {\"xaxis\": {\"backgroundcolor\": \"white\", \"gridcolor\": \"rgb(232,232,232)\", \"gridwidth\": 2, \"linecolor\": \"rgb(36,36,36)\", \"showbackground\": true, \"showgrid\": false, \"showline\": true, \"ticks\": \"outside\", \"zeroline\": false, \"zerolinecolor\": \"rgb(36,36,36)\"}, \"yaxis\": {\"backgroundcolor\": \"white\", \"gridcolor\": \"rgb(232,232,232)\", \"gridwidth\": 2, \"linecolor\": \"rgb(36,36,36)\", \"showbackground\": true, \"showgrid\": false, \"showline\": true, \"ticks\": \"outside\", \"zeroline\": false, \"zerolinecolor\": \"rgb(36,36,36)\"}, \"zaxis\": {\"backgroundcolor\": \"white\", \"gridcolor\": \"rgb(232,232,232)\", \"gridwidth\": 2, \"linecolor\": \"rgb(36,36,36)\", \"showbackground\": true, \"showgrid\": false, \"showline\": true, \"ticks\": \"outside\", \"zeroline\": false, \"zerolinecolor\": \"rgb(36,36,36)\"}}, \"shapedefaults\": {\"fillcolor\": \"black\", \"line\": {\"width\": 0}, \"opacity\": 0.3}, \"ternary\": {\"aaxis\": {\"gridcolor\": \"rgb(232,232,232)\", \"linecolor\": \"rgb(36,36,36)\", \"showgrid\": false, \"showline\": true, \"ticks\": \"outside\"}, \"baxis\": {\"gridcolor\": \"rgb(232,232,232)\", \"linecolor\": \"rgb(36,36,36)\", \"showgrid\": false, \"showline\": true, \"ticks\": \"outside\"}, \"bgcolor\": \"white\", \"caxis\": {\"gridcolor\": \"rgb(232,232,232)\", \"linecolor\": \"rgb(36,36,36)\", \"showgrid\": false, \"showline\": true, \"ticks\": \"outside\"}}, \"title\": {\"x\": 0.05}, \"xaxis\": {\"automargin\": true, \"gridcolor\": \"rgb(232,232,232)\", \"linecolor\": \"rgb(36,36,36)\", \"showgrid\": false, \"showline\": true, \"ticks\": \"outside\", \"title\": {\"standoff\": 15}, \"zeroline\": false, \"zerolinecolor\": \"rgb(36,36,36)\"}, \"yaxis\": {\"automargin\": true, \"gridcolor\": \"rgb(232,232,232)\", \"linecolor\": \"rgb(36,36,36)\", \"showgrid\": false, \"showline\": true, \"ticks\": \"outside\", \"title\": {\"standoff\": 15}, \"zeroline\": false, \"zerolinecolor\": \"rgb(36,36,36)\"}}}, \"title\": {\"text\": \"Dev Set Accuracy by Words\"}, \"xaxis\": {\"anchor\": \"y\", \"domain\": [0.0, 1.0], \"title\": {\"text\": \"word count\"}}, \"yaxis\": {\"anchor\": \"x\", \"domain\": [0.0, 1.0], \"title\": {\"text\": \"dev set accuracy\"}}},\n",
       "                        {\"responsive\": true}\n",
       "                    ).then(function(){\n",
       "                            \n",
       "var gd = document.getElementById('582dcab0-343e-40a8-8d3d-8d140ad1ef16');\n",
       "var x = new MutationObserver(function (mutations, observer) {{\n",
       "        var display = window.getComputedStyle(gd).display;\n",
       "        if (!display || display === 'none') {{\n",
       "            console.log([gd, 'removed!']);\n",
       "            Plotly.purge(gd);\n",
       "            observer.disconnect();\n",
       "        }}\n",
       "}});\n",
       "\n",
       "// Listen for the removal of the full notebook cells\n",
       "var notebookContainer = gd.closest('#notebook-container');\n",
       "if (notebookContainer) {{\n",
       "    x.observe(notebookContainer, {childList: true});\n",
       "}}\n",
       "\n",
       "// Listen for the clearing of the current output cell\n",
       "var outputEl = gd.closest('.output');\n",
       "if (outputEl) {{\n",
       "    x.observe(outputEl, {childList: true});\n",
       "}}\n",
       "\n",
       "                        })\n",
       "                };\n",
       "                });\n",
       "            </script>\n",
       "        </div>"
      ]
     },
     "metadata": {},
     "output_type": "display_data"
    }
   ],
   "source": [
    "import plotly.express as px\n",
    "fig = px.line(df, x=\"words\", y=\"test_accur\", color=\"model\", title=\"Dev Set Accuracy by Words\", template=\"simple_white\")\n",
    "fig.update_layout(yaxis_title=\"dev set accuracy\",\n",
    "                xaxis_title=\"word count\")\n",
    "fig.show()"
   ]
  },
  {
   "cell_type": "code",
   "execution_count": null,
   "metadata": {},
   "outputs": [],
   "source": [
    "%matplotlib notebook\n",
    "labels = [\"almadaNegreiros\", \"ecaDeQueiros\", \"joseSaramago\",\n",
    "          \"camiloCasteloBranco\", \"joseRodriguesSantos\", \"luisaMarquesSilva\"]\n",
    "metrics.plot_confusion_matrix(dot_clf, X_test, y_test, cmap='gray_r')\n",
    "plt.title(\"Dot dot dot Classifier\")"
   ]
  }
 ],
 "metadata": {
  "kernelspec": {
   "display_name": "Python 3.6.9 64-bit",
   "language": "python",
   "name": "python36964bit150444f68f124ddb8c8a027ea9e0ddd3"
  },
  "language_info": {
   "codemirror_mode": {
    "name": "ipython",
    "version": 3
   },
   "file_extension": ".py",
   "mimetype": "text/x-python",
   "name": "python",
   "nbconvert_exporter": "python",
   "pygments_lexer": "ipython3",
   "version": "3.6.9"
  }
 },
 "nbformat": 4,
 "nbformat_minor": 4
}
